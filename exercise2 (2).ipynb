{
  "nbformat": 4,
  "nbformat_minor": 0,
  "metadata": {
    "colab": {
      "provenance": []
    },
    "kernelspec": {
      "name": "python3",
      "display_name": "Python 3"
    },
    "language_info": {
      "name": "python"
    }
  },
  "cells": [
    {
      "cell_type": "markdown",
      "source": [],
      "metadata": {
        "id": "KOL2iI8Ou67J"
      }
    },
    {
      "cell_type": "code",
      "execution_count": null,
      "metadata": {
        "id": "R62dyaraidQ9"
      },
      "outputs": [],
      "source": [
        "import pandas as pd\n",
        "import numpy as np\n",
        "from sklearn.model_selection import train_test_split\n",
        "from sklearn.preprocessing import StandardScaler\n",
        "from sklearn.linear_model import LogisticRegression\n",
        "from sklearn.linear_model import LinearRegression\n",
        "from sklearn.neighbors import KNeighborsClassifier\n",
        "from sklearn.metrics import accuracy_score, confusion_matrix\n",
        "from sklearn.impute import SimpleImputer\n",
        "from sklearn.metrics import mean_squared_error, r2_score\n",
        "import seaborn as sns\n",
        "from sklearn import metrics"
      ]
    },
    {
      "cell_type": "code",
      "source": [
        "# Load the dataset\n",
        "df = pd.read_csv('/content/drive/MyDrive/Breast_Cancer.csv')\n",
        "df.head()"
      ],
      "metadata": {
        "colab": {
          "base_uri": "https://localhost:8080/",
          "height": 206
        },
        "id": "aTU6ILMzlASC",
        "outputId": "2862d71c-6b2f-47d9-b389-ade52e3ac14c"
      },
      "execution_count": null,
      "outputs": [
        {
          "output_type": "execute_result",
          "data": {
            "text/plain": [
              "        Id  Cl.thickness  Cell.size  Cell.shape  Marg.adhesion  Epith.c.size  \\\n",
              "0  1000025             5          1           1              1             2   \n",
              "1  1002945             5          4           4              5             7   \n",
              "2  1015425             3          1           1              1             2   \n",
              "3  1016277             6          8           8              1             3   \n",
              "4  1017023             4          1           1              3             2   \n",
              "\n",
              "   Bare.nuclei  Bl.cromatin  Normal.nucleoli  Mitoses  Class  \n",
              "0          1.0            3                1        1      0  \n",
              "1         10.0            3                2        1      0  \n",
              "2          2.0            3                1        1      0  \n",
              "3          4.0            3                7        1      0  \n",
              "4          1.0            3                1        1      0  "
            ],
            "text/html": [
              "\n",
              "  <div id=\"df-192bd245-96b5-4643-a949-9fee0325bfed\">\n",
              "    <div class=\"colab-df-container\">\n",
              "      <div>\n",
              "<style scoped>\n",
              "    .dataframe tbody tr th:only-of-type {\n",
              "        vertical-align: middle;\n",
              "    }\n",
              "\n",
              "    .dataframe tbody tr th {\n",
              "        vertical-align: top;\n",
              "    }\n",
              "\n",
              "    .dataframe thead th {\n",
              "        text-align: right;\n",
              "    }\n",
              "</style>\n",
              "<table border=\"1\" class=\"dataframe\">\n",
              "  <thead>\n",
              "    <tr style=\"text-align: right;\">\n",
              "      <th></th>\n",
              "      <th>Id</th>\n",
              "      <th>Cl.thickness</th>\n",
              "      <th>Cell.size</th>\n",
              "      <th>Cell.shape</th>\n",
              "      <th>Marg.adhesion</th>\n",
              "      <th>Epith.c.size</th>\n",
              "      <th>Bare.nuclei</th>\n",
              "      <th>Bl.cromatin</th>\n",
              "      <th>Normal.nucleoli</th>\n",
              "      <th>Mitoses</th>\n",
              "      <th>Class</th>\n",
              "    </tr>\n",
              "  </thead>\n",
              "  <tbody>\n",
              "    <tr>\n",
              "      <th>0</th>\n",
              "      <td>1000025</td>\n",
              "      <td>5</td>\n",
              "      <td>1</td>\n",
              "      <td>1</td>\n",
              "      <td>1</td>\n",
              "      <td>2</td>\n",
              "      <td>1.0</td>\n",
              "      <td>3</td>\n",
              "      <td>1</td>\n",
              "      <td>1</td>\n",
              "      <td>0</td>\n",
              "    </tr>\n",
              "    <tr>\n",
              "      <th>1</th>\n",
              "      <td>1002945</td>\n",
              "      <td>5</td>\n",
              "      <td>4</td>\n",
              "      <td>4</td>\n",
              "      <td>5</td>\n",
              "      <td>7</td>\n",
              "      <td>10.0</td>\n",
              "      <td>3</td>\n",
              "      <td>2</td>\n",
              "      <td>1</td>\n",
              "      <td>0</td>\n",
              "    </tr>\n",
              "    <tr>\n",
              "      <th>2</th>\n",
              "      <td>1015425</td>\n",
              "      <td>3</td>\n",
              "      <td>1</td>\n",
              "      <td>1</td>\n",
              "      <td>1</td>\n",
              "      <td>2</td>\n",
              "      <td>2.0</td>\n",
              "      <td>3</td>\n",
              "      <td>1</td>\n",
              "      <td>1</td>\n",
              "      <td>0</td>\n",
              "    </tr>\n",
              "    <tr>\n",
              "      <th>3</th>\n",
              "      <td>1016277</td>\n",
              "      <td>6</td>\n",
              "      <td>8</td>\n",
              "      <td>8</td>\n",
              "      <td>1</td>\n",
              "      <td>3</td>\n",
              "      <td>4.0</td>\n",
              "      <td>3</td>\n",
              "      <td>7</td>\n",
              "      <td>1</td>\n",
              "      <td>0</td>\n",
              "    </tr>\n",
              "    <tr>\n",
              "      <th>4</th>\n",
              "      <td>1017023</td>\n",
              "      <td>4</td>\n",
              "      <td>1</td>\n",
              "      <td>1</td>\n",
              "      <td>3</td>\n",
              "      <td>2</td>\n",
              "      <td>1.0</td>\n",
              "      <td>3</td>\n",
              "      <td>1</td>\n",
              "      <td>1</td>\n",
              "      <td>0</td>\n",
              "    </tr>\n",
              "  </tbody>\n",
              "</table>\n",
              "</div>\n",
              "      <button class=\"colab-df-convert\" onclick=\"convertToInteractive('df-192bd245-96b5-4643-a949-9fee0325bfed')\"\n",
              "              title=\"Convert this dataframe to an interactive table.\"\n",
              "              style=\"display:none;\">\n",
              "        \n",
              "  <svg xmlns=\"http://www.w3.org/2000/svg\" height=\"24px\"viewBox=\"0 0 24 24\"\n",
              "       width=\"24px\">\n",
              "    <path d=\"M0 0h24v24H0V0z\" fill=\"none\"/>\n",
              "    <path d=\"M18.56 5.44l.94 2.06.94-2.06 2.06-.94-2.06-.94-.94-2.06-.94 2.06-2.06.94zm-11 1L8.5 8.5l.94-2.06 2.06-.94-2.06-.94L8.5 2.5l-.94 2.06-2.06.94zm10 10l.94 2.06.94-2.06 2.06-.94-2.06-.94-.94-2.06-.94 2.06-2.06.94z\"/><path d=\"M17.41 7.96l-1.37-1.37c-.4-.4-.92-.59-1.43-.59-.52 0-1.04.2-1.43.59L10.3 9.45l-7.72 7.72c-.78.78-.78 2.05 0 2.83L4 21.41c.39.39.9.59 1.41.59.51 0 1.02-.2 1.41-.59l7.78-7.78 2.81-2.81c.8-.78.8-2.07 0-2.86zM5.41 20L4 18.59l7.72-7.72 1.47 1.35L5.41 20z\"/>\n",
              "  </svg>\n",
              "      </button>\n",
              "      \n",
              "  <style>\n",
              "    .colab-df-container {\n",
              "      display:flex;\n",
              "      flex-wrap:wrap;\n",
              "      gap: 12px;\n",
              "    }\n",
              "\n",
              "    .colab-df-convert {\n",
              "      background-color: #E8F0FE;\n",
              "      border: none;\n",
              "      border-radius: 50%;\n",
              "      cursor: pointer;\n",
              "      display: none;\n",
              "      fill: #1967D2;\n",
              "      height: 32px;\n",
              "      padding: 0 0 0 0;\n",
              "      width: 32px;\n",
              "    }\n",
              "\n",
              "    .colab-df-convert:hover {\n",
              "      background-color: #E2EBFA;\n",
              "      box-shadow: 0px 1px 2px rgba(60, 64, 67, 0.3), 0px 1px 3px 1px rgba(60, 64, 67, 0.15);\n",
              "      fill: #174EA6;\n",
              "    }\n",
              "\n",
              "    [theme=dark] .colab-df-convert {\n",
              "      background-color: #3B4455;\n",
              "      fill: #D2E3FC;\n",
              "    }\n",
              "\n",
              "    [theme=dark] .colab-df-convert:hover {\n",
              "      background-color: #434B5C;\n",
              "      box-shadow: 0px 1px 3px 1px rgba(0, 0, 0, 0.15);\n",
              "      filter: drop-shadow(0px 1px 2px rgba(0, 0, 0, 0.3));\n",
              "      fill: #FFFFFF;\n",
              "    }\n",
              "  </style>\n",
              "\n",
              "      <script>\n",
              "        const buttonEl =\n",
              "          document.querySelector('#df-192bd245-96b5-4643-a949-9fee0325bfed button.colab-df-convert');\n",
              "        buttonEl.style.display =\n",
              "          google.colab.kernel.accessAllowed ? 'block' : 'none';\n",
              "\n",
              "        async function convertToInteractive(key) {\n",
              "          const element = document.querySelector('#df-192bd245-96b5-4643-a949-9fee0325bfed');\n",
              "          const dataTable =\n",
              "            await google.colab.kernel.invokeFunction('convertToInteractive',\n",
              "                                                     [key], {});\n",
              "          if (!dataTable) return;\n",
              "\n",
              "          const docLinkHtml = 'Like what you see? Visit the ' +\n",
              "            '<a target=\"_blank\" href=https://colab.research.google.com/notebooks/data_table.ipynb>data table notebook</a>'\n",
              "            + ' to learn more about interactive tables.';\n",
              "          element.innerHTML = '';\n",
              "          dataTable['output_type'] = 'display_data';\n",
              "          await google.colab.output.renderOutput(dataTable, element);\n",
              "          const docLink = document.createElement('div');\n",
              "          docLink.innerHTML = docLinkHtml;\n",
              "          element.appendChild(docLink);\n",
              "        }\n",
              "      </script>\n",
              "    </div>\n",
              "  </div>\n",
              "  "
            ]
          },
          "metadata": {},
          "execution_count": 6
        }
      ]
    },
    {
      "cell_type": "code",
      "source": [
        "X = df.drop(\"Class\", axis=1)\n",
        "Y = df[\"Class\"]\n",
        "imputer = SimpleImputer(strategy='mean')"
      ],
      "metadata": {
        "id": "GtwWU3XtnDQs"
      },
      "execution_count": null,
      "outputs": []
    },
    {
      "cell_type": "code",
      "source": [
        "#histogram\n",
        "plt.hist(df['Cl.thickness'], bins=10)\n",
        "plt.xlabel('Cl.thickness')\n",
        "plt.ylabel('Frequency')\n",
        "plt.title('Distribution of Cl.thickness')\n",
        "plt.show()\n"
      ],
      "metadata": {
        "colab": {
          "base_uri": "https://localhost:8080/",
          "height": 472
        },
        "id": "OKyKnbJGydiD",
        "outputId": "8be43146-8ccc-4890-8836-22012bb4b892"
      },
      "execution_count": null,
      "outputs": [
        {
          "output_type": "display_data",
          "data": {
            "text/plain": [
              "<Figure size 640x480 with 1 Axes>"
            ],
            "image/png": "[encoded data removed]"
          },
          "metadata": {}
        }
      ]
    },
    {
      "cell_type": "code",
      "source": [
        "X_train, X_test, Y_train, Y_test = train_test_split(X, Y, test_size=0.2, random_state=42)"
      ],
      "metadata": {
        "id": "C1BUS8uunGkA"
      },
      "execution_count": null,
      "outputs": []
    },
    {
      "cell_type": "code",
      "source": [
        "# Perform feature scaling using StandardScaler the aim of the StandardScaler is to center the feature values around zero\n",
        "scaler = StandardScaler()\n",
        "X_train_scaled = scaler.fit_transform(X_train)\n",
        "X_test_scaled = scaler.transform(X_test)\n",
        "\n",
        "# Fit and transform the imputer on the training set(imputer used to handle missing values in data)\n",
        "X_train_scaled = imputer.fit_transform(X_train_scaled)\n",
        "\n",
        "# Transform the testing set using the fitted imputer\n",
        "X_test_scaled = imputer.transform(X_test_scaled)"
      ],
      "metadata": {
        "id": "Jl1qmWPbnLsK"
      },
      "execution_count": null,
      "outputs": []
    },
    {
      "cell_type": "code",
      "source": [
        "# Train a Logistic Regression model\n",
        "logistic_regression_model = LogisticRegression()\n",
        "logistic_regression_model.fit(X_train_scaled, Y_train)\n",
        "\n",
        "# Train a Linear Regression model\n",
        "linear_regression_model = LinearRegression()\n",
        "linear_regression_model.fit(X_train_scaled, Y_train)\n",
        "\n",
        "# Train a KNN Classification model\n",
        "knn_model = KNeighborsClassifier()\n",
        "knn_model.fit(X_train_scaled, Y_train)\n",
        "\n",
        "# Access the predicted values for logistic regression\n",
        "logistic_regression_predictions = logistic_regression_model.predict(X_test_scaled)\n",
        "print(\"Logistic Regression Predictions:\")\n",
        "print(logistic_regression_predictions)\n",
        "\n",
        "# Access the predicted values for linear regression\n",
        "linear_regression_predictions = linear_regression_model.predict(X_test_scaled)\n",
        "print(\"Linear Regression Predictions:\")\n",
        "print(linear_regression_predictions)\n",
        "\n",
        "  # Access the predicted values for linear regression\n",
        "  knn_predictions = knn_model.predict(X_test_scaled)\n",
        "  print(\"knn Predictions:\")\n",
        "  print(knn_predictions)\n",
        "\n"
      ],
      "metadata": {
        "colab": {
          "base_uri": "https://localhost:8080/"
        },
        "id": "jB5DYAOknRpO",
        "outputId": "14b6098d-2849-4328-f048-11c98dcbfbef"
      },
      "execution_count": null,
      "outputs": [
        {
          "output_type": "stream",
          "name": "stdout",
          "text": [
            "Logistic Regression Predictions:\n",
            "[0 0 0 1 0 0 0 1 1 0 0 1 0 0 0 1 0 1 1 1 1 0 1 0 1 0 0 1 0 1 0 0 0 1 0 0 0\n",
            " 1 0 1 0 0 1 0 0 0 0 0 0 0 0 0 1 0 0 0 0 1 0 0 0 0 1 0 0 0 1 1 0 0 1 0 1 0\n",
            " 0 0 0 1 0 0 0 0 0 0 0 1 0 0 0 0 0 0 1 0 0 1 0 0 0 0 0 0 0 1 1 0 1 0 0 1 1\n",
            " 0 0 0 0 1 0 0 0 0 0 1 0 0 1 1 0 0 1 1 0 0 1 0 1 0 1 0 0 0]\n",
            "Linear Regression Predictions:\n",
            "[ 8.23249185e-02  4.37027379e-02  3.33174642e-02  7.15940907e-01\n",
            "  1.59230926e-01 -2.94332727e-02  1.59646270e-01  9.38082305e-01\n",
            "  7.94122056e-01  3.14025820e-01  6.82311276e-04  7.09113773e-01\n",
            "  1.25322695e-02  1.26594394e-01  1.15753397e-02  1.02374517e+00\n",
            " -6.90145524e-02  9.70328585e-01  7.33552097e-01  5.16867808e-01\n",
            "  1.29405002e+00 -5.67424161e-02  5.12035969e-01 -6.50790148e-02\n",
            "  8.55525055e-01  1.03684464e-01  2.25961878e-02  9.16493552e-01\n",
            "  1.26734808e-01  8.00999442e-01  2.36269508e-02  3.44523653e-02\n",
            "  4.39887411e-02  8.36888076e-01 -7.02568257e-02  8.52412617e-02\n",
            " -8.74155562e-03  1.19272288e+00 -8.21748095e-02  1.02182065e+00\n",
            "  1.91332885e-03  1.50826911e-01  1.01972481e+00 -4.56839305e-02\n",
            "  1.16946070e-02  7.40783621e-02  1.04365783e-01  4.10654842e-01\n",
            "  8.27163786e-03  2.27613384e-01  1.36492148e-01 -2.89178908e-02\n",
            "  1.05560987e+00 -3.89304950e-02  3.93420019e-01  4.91583843e-02\n",
            "  7.39961366e-02  8.80404556e-01 -7.68554486e-03  3.19282871e-02\n",
            "  2.95984586e-03 -1.62101856e-02  1.05192269e+00  1.24031542e-01\n",
            " -3.75993184e-02 -1.91398153e-02  1.04984974e+00  7.28128001e-01\n",
            "  1.63778474e-01  5.90609371e-02  8.89724588e-01  8.10761635e-02\n",
            "  8.79620852e-01  5.01835841e-02  2.28109155e-02  5.30297546e-02\n",
            " -7.14114186e-02  7.64771726e-01 -4.01745169e-03 -6.61036399e-02\n",
            " -2.94086051e-02 -2.99578507e-02 -6.48861469e-02  1.01865753e-01\n",
            "  2.09045971e-03  1.38691242e+00  4.60720238e-01 -3.41856232e-03\n",
            "  2.70175221e-03 -1.78191304e-02 -1.76871863e-02 -4.33086806e-02\n",
            "  8.99579816e-01  1.81002423e-01  1.13988857e-01  9.97149650e-01\n",
            "  3.21189023e-02  1.63770894e-01  8.43792983e-02  1.21626074e-01\n",
            "  1.57007305e-03  2.17894410e-01  6.84047305e-02  7.50539772e-01\n",
            "  4.76715690e-01  3.15041170e-02  8.56105080e-01  4.48930137e-02\n",
            "  7.49465495e-02  5.85939587e-01  7.36532525e-01  1.66379453e-01\n",
            "  3.90381312e-01  3.28550912e-01  9.73330588e-02  8.69697408e-01\n",
            "  1.29046015e-02  4.35399442e-02  7.56117385e-03  1.11044377e-01\n",
            "  2.70507502e-03  9.51965663e-01 -4.04074731e-02 -3.61427397e-02\n",
            "  8.35607202e-01  6.00704599e-01  2.32493740e-02  1.33121450e-01\n",
            "  6.55727277e-01  5.67770383e-01 -2.78768588e-02 -5.40628492e-02\n",
            "  8.83650904e-01 -8.29325751e-03  1.03379463e+00 -2.81397251e-02\n",
            "  8.56091987e-01  1.39473555e-01  1.35529663e-02  1.33128062e-01]\n",
            "knn Predictions:\n",
            "[0 0 0 1 0 0 0 1 1 0 0 1 0 0 0 1 0 1 1 1 1 0 1 0 1 0 0 1 0 1 0 0 0 1 0 0 0\n",
            " 1 0 1 0 0 1 0 0 0 0 0 0 0 0 0 1 0 0 0 0 1 0 0 0 0 1 0 0 0 1 1 0 0 1 0 1 0\n",
            " 0 0 0 1 0 0 0 0 0 0 0 1 0 0 0 0 0 0 1 0 0 1 0 0 0 0 0 0 0 1 1 0 1 0 0 1 1\n",
            " 0 0 1 0 1 0 0 0 0 0 1 0 0 1 1 0 0 1 1 0 0 1 0 1 0 1 0 0 0]\n"
          ]
        }
      ]
    },
    {
      "cell_type": "code",
      "source": [
        "# Display the coefficients and form the logistic regression equation\n",
        "coefficients = logistic_regression_model.coef_\n",
        "intercept = logistic_regression_model.intercept_\n",
        "print(\"Coefficients:\", coefficients)\n",
        "print(\"Intercept:\", intercept)"
      ],
      "metadata": {
        "colab": {
          "base_uri": "https://localhost:8080/"
        },
        "id": "7MqXKctDqbPM",
        "outputId": "b68ddc8b-e344-46ae-9b58-55e68b61a874"
      },
      "execution_count": null,
      "outputs": [
        {
          "output_type": "stream",
          "name": "stdout",
          "text": [
            "Coefficients: [[-0.35882394  1.36324491  0.26906617  0.97564894  0.51860193  0.2981035\n",
            "   1.42400929  0.8380279   0.01207334  0.58401863]]\n",
            "Intercept: [-1.26173015]\n"
          ]
        }
      ]
    },
    {
      "cell_type": "code",
      "source": [
        "# Compute accuracy and confusion matrix for Logistic Regression model)\n",
        "logistic_regression_accuracy = accuracy_score(Y_test, logistic_regression_predictions.round())\n",
        "logistic_regression_confusion_matrix = metrics.confusion_matrix(Y_test, logistic_regression_predictions.round())\n",
        "print(\"Logistic Regression Accuracy:\", logistic_regression_accuracy)\n",
        "print(\"Logistic Regression Confusion Matrix:\")\n",
        "print(logistic_regression_confusion_matrix)\n"
      ],
      "metadata": {
        "colab": {
          "base_uri": "https://localhost:8080/"
        },
        "id": "YE5FGwZxra-v",
        "outputId": "5ae950a5-4a93-48e8-e773-89a7819a32bb"
      },
      "execution_count": null,
      "outputs": [
        {
          "output_type": "stream",
          "name": "stdout",
          "text": [
            "Logistic Regression Accuracy: 0.9642857142857143\n",
            "Logistic Regression Confusion Matrix:\n",
            "[[94  1]\n",
            " [ 4 41]]\n"
          ]
        }
      ]
    },
    {
      "cell_type": "code",
      "source": [
        "# Compute accuracy and confusion matrix for KNN Classification model\n",
        "knn_accuracy = accuracy_score(Y_test, knn_predictions)\n",
        "knn_confusion_matrix = confusion_matrix(Y_test, knn_predictions)\n",
        "print(\"KNN Classification Accuracy:\", knn_accuracy)\n",
        "print(\"KNN Classification Confusion Matrix:\")\n",
        "print(knn_confusion_matrix)"
      ],
      "metadata": {
        "colab": {
          "base_uri": "https://localhost:8080/"
        },
        "id": "FcAb1S05s1NC",
        "outputId": "976c2284-6e48-4a57-a1f1-dcb985b6173f"
      },
      "execution_count": null,
      "outputs": [
        {
          "output_type": "stream",
          "name": "stdout",
          "text": [
            "KNN Classification Accuracy: 0.9714285714285714\n",
            "KNN Classification Confusion Matrix:\n",
            "[[94  1]\n",
            " [ 3 42]]\n"
          ]
        }
      ]
    },
    {
      "cell_type": "code",
      "source": [
        "# R-squared score\n",
        "linear_regression_r2 = r2_score(Y_test, linear_regression_predictions)\n",
        "\n",
        "print(\"Linear Regression R-squared Score:\", linear_regression_r2)"
      ],
      "metadata": {
        "colab": {
          "base_uri": "https://localhost:8080/"
        },
        "id": "6Yb3xhLeuGk-",
        "outputId": "03fe22cb-f400-4907-a695-183769a50e26"
      },
      "execution_count": null,
      "outputs": [
        {
          "output_type": "stream",
          "name": "stdout",
          "text": [
            "Linear Regression R-squared Score: 0.8214061767952618\n"
          ]
        }
      ]
    },
    {
      "cell_type": "code",
      "source": [],
      "metadata": {
        "id": "uPjVTbqxukYh"
      },
      "execution_count": null,
      "outputs": []
    }
  ]
}